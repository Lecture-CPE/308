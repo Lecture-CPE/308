{
  "nbformat": 4,
  "nbformat_minor": 0,
  "metadata": {
    "kernelspec": {
      "display_name": "Python 3",
      "language": "python",
      "name": "python3"
    },
    "language_info": {
      "codemirror_mode": {
        "name": "ipython",
        "version": 3
      },
      "file_extension": ".py",
      "mimetype": "text/x-python",
      "name": "python",
      "nbconvert_exporter": "python",
      "pygments_lexer": "ipython3",
      "version": "3.7.3"
    },
    "colab": {
      "name": "eigenvalues-eigenvectors.ipynb",
      "provenance": [],
      "include_colab_link": true
    }
  },
  "cells": [
    {
      "cell_type": "markdown",
      "metadata": {
        "id": "view-in-github",
        "colab_type": "text"
      },
      "source": [
        "<a href=\"https://colab.research.google.com/github/Lecture-CPE/308/blob/2562-2/w12/colab/eigenvalues_eigenvectors.ipynb\" target=\"_parent\"><img src=\"https://colab.research.google.com/assets/colab-badge.svg\" alt=\"Open In Colab\"/></a>"
      ]
    },
    {
      "cell_type": "markdown",
      "metadata": {
        "id": "ZSxmqn_vRdzi",
        "colab_type": "text"
      },
      "source": [
        "# Eigenvalues and Eigenvectors"
      ]
    },
    {
      "cell_type": "code",
      "metadata": {
        "id": "0RwS1nJORdzk",
        "colab_type": "code",
        "colab": {}
      },
      "source": [
        "import numpy as np\n",
        "import matplotlib.pyplot as plt\n",
        "import scipy.linalg as la"
      ],
      "execution_count": 0,
      "outputs": []
    },
    {
      "cell_type": "markdown",
      "metadata": {
        "id": "Ed5AM8a4Rdzr",
        "colab_type": "text"
      },
      "source": [
        "## Definition\n",
        "\n",
        "Let $A$ be a square matrix. A non-zero vector $\\mathbf{v}$ is an [eigenvector](https://en.wikipedia.org/wiki/Eigenvalues_and_eigenvectors) for $A$ with [eigenvalue](https://en.wikipedia.org/wiki/Eigenvalues_and_eigenvectors) $\\lambda$ if\n",
        "\n",
        "$$\n",
        "A\\mathbf{v} = \\lambda \\mathbf{v}\n",
        "$$\n",
        "\n",
        "Rearranging the equation, we see that $\\mathbf{v}$ is a solution of the homogeneous system of equations\n",
        "\n",
        "$$\n",
        "\\left( A - \\lambda I \\right) \\mathbf{v} = \\mathbf{0}\n",
        "$$\n",
        "\n",
        "where $I$ is the identity matrix of size $n$. Non-trivial solutions exist only if the matrix $A - \\lambda I$ is singular which means $\\mathrm{det}(A - \\lambda I) = 0$. Therefore eigenvalues of $A$ are roots of the [characteristic polynomial](https://en.wikipedia.org/wiki/Characteristic_polynomial)\n",
        "\n",
        "$$\n",
        "p(\\lambda) = \\mathrm{det}(A - \\lambda I)\n",
        "$$"
      ]
    },
    {
      "cell_type": "markdown",
      "metadata": {
        "id": "zVdQXQfyRdzt",
        "colab_type": "text"
      },
      "source": [
        "## scipy.linalg.eig\n",
        "\n",
        "The function [`scipy.linalg.eig`](https://docs.scipy.org/doc/scipy/reference/generated/scipy.linalg.eig.html) computes eigenvalues and eigenvectors of a square matrix $A$.\n",
        "\n",
        "Let's consider a simple example with a diagonal matrix:"
      ]
    },
    {
      "cell_type": "code",
      "metadata": {
        "id": "5wXpRfvvRdzu",
        "colab_type": "code",
        "outputId": "3d835f5e-8ec9-4a24-98d2-2c09264788de",
        "colab": {
          "base_uri": "https://localhost:8080/",
          "height": 51
        }
      },
      "source": [
        "A = np.array([[3,0],[8,-1]])\n",
        "print(A)"
      ],
      "execution_count": 2,
      "outputs": [
        {
          "output_type": "stream",
          "text": [
            "[[ 3  0]\n",
            " [ 8 -1]]\n"
          ],
          "name": "stdout"
        }
      ]
    },
    {
      "cell_type": "markdown",
      "metadata": {
        "id": "zIVbjDeoRdzy",
        "colab_type": "text"
      },
      "source": [
        "The function `la.eig` returns a tuple `(eigvals,eigvecs)` where `eigvals` is a 1D NumPy array of complex numbers giving the eigenvalues of $A$, and `eigvecs` is a 2D NumPy array with the corresponding eigenvectors in the columns:"
      ]
    },
    {
      "cell_type": "code",
      "metadata": {
        "id": "IBDth5taSDx7",
        "colab_type": "code",
        "colab": {
          "base_uri": "https://localhost:8080/",
          "height": 51
        },
        "outputId": "998a0bee-483c-4c8f-db6a-617bb134ead2"
      },
      "source": [
        "B = np.array([[1],[2]])\n",
        "print(B)"
      ],
      "execution_count": 5,
      "outputs": [
        {
          "output_type": "stream",
          "text": [
            "[[1]\n",
            " [2]]\n"
          ],
          "name": "stdout"
        }
      ]
    },
    {
      "cell_type": "code",
      "metadata": {
        "id": "a-iikJ4kSYOP",
        "colab_type": "code",
        "colab": {
          "base_uri": "https://localhost:8080/",
          "height": 51
        },
        "outputId": "4040ce9e-f208-462e-8b5e-da554d17eee8"
      },
      "source": [
        "C = np.array([[0],[1]])\n",
        "print(C)"
      ],
      "execution_count": 6,
      "outputs": [
        {
          "output_type": "stream",
          "text": [
            "[[0]\n",
            " [1]]\n"
          ],
          "name": "stdout"
        }
      ]
    },
    {
      "cell_type": "markdown",
      "metadata": {
        "id": "diFhuhcgSdnT",
        "colab_type": "text"
      },
      "source": [
        "นำ Matrix A คูณด้วย Vector B \n",
        "\\begin{equation}\n",
        "\\begin{bmatrix}\n",
        "3&0\\\\\n",
        "8&-1\\\\\n",
        "\\end{bmatrix}\\begin{bmatrix}1\\\\2 \\end{bmatrix} = D\n",
        "\\end{equation}"
      ]
    },
    {
      "cell_type": "code",
      "metadata": {
        "id": "c6K4pc3wTeZf",
        "colab_type": "code",
        "colab": {
          "base_uri": "https://localhost:8080/",
          "height": 51
        },
        "outputId": "50eeeb22-209b-4f82-8bff-87a212fe489b"
      },
      "source": [
        "D=A@B\n",
        "print(D)"
      ],
      "execution_count": 9,
      "outputs": [
        {
          "output_type": "stream",
          "text": [
            "[[3]\n",
            " [6]]\n"
          ],
          "name": "stdout"
        }
      ]
    },
    {
      "cell_type": "markdown",
      "metadata": {
        "id": "7jlQfqu8UbSp",
        "colab_type": "text"
      },
      "source": [
        "จัดรูปดีๆ จากตัวอย่างนี้ ดึงตัวร่วมออก จะเห็นว่า matrix A คู่ vector B จะทำให้ได้ ตัวขยาย vector B ขนาด 3 เท่า\n",
        "\n",
        "เรียกตัวคูณ ในที่นี้คือเลข 3 ว่าเป็น **ค่าลักษณะเฉพาะ** (Eigenvalue) และเรียก เวกเตอร์ B ว่า **เวกเตอร์ลักษณะเฉพาะ** (Eigenvector)"
      ]
    },
    {
      "cell_type": "markdown",
      "metadata": {
        "id": "TQYEE4SKT8OR",
        "colab_type": "text"
      },
      "source": [
        "\\begin{equation}\n",
        "\\begin{bmatrix}\n",
        "3&0\\\\\n",
        "8&-1\\\\\n",
        "\\end{bmatrix}\\begin{bmatrix}1\\\\2 \\end{bmatrix} = \\begin{bmatrix} 3\\\\6 \\end{bmatrix} = 3\\begin{bmatrix} 1\\\\2\\end{bmatrix}\n",
        "\\end{equation}"
      ]
    },
    {
      "cell_type": "markdown",
      "metadata": {
        "id": "E9U0z6RZVN0T",
        "colab_type": "text"
      },
      "source": [
        "\\begin{equation}\n",
        "\\textbf{A}x = \\lambda x = \\lambda I_n x \n",
        "\\end{equation}\n",
        "\n",
        "\\begin{equation}\n",
        "\\begin{aligned}\n",
        "\\textbf{A}x - \\lambda I_n x  = (\\textbf{A}-\\lambda I_n)x &= 0 \\\\\n",
        "(\\lambda I_n - A)x &= 0\n",
        "\\end{aligned}\n",
        "\\end{equation}\n",
        "\n",
        "∴ $\\lambda$ เรียกว่า ค่าลักษณะเฉพาะเมื่อระบบ $(\\lambda I_n - A)x = 0$\n",
        "ไม่มีผลเฉลย\n",
        "\n",
        "ถ้าระบบมีเฉลยที่ชัด แปลว่า x=0 ทำให้ไม่มีข้อมูล  ที่เราต้องการคือ x!=0 \n",
        "\n",
        "จะเป็นได้นั้น \n",
        "\\begin{equation}\n",
        "det(\\lambda I_n - A) = 0 \n",
        "\\end{equation}\n",
        "เรียกสมการด้านบนว่า **สมการลักษณะเฉพาะ**\n",
        "เรียกสมการซ้ายมือ(ส่วน determinant) ว่า **พหุนามลักษณะเฉพาะ**"
      ]
    },
    {
      "cell_type": "markdown",
      "metadata": {
        "id": "Id3W5WOeZ9yP",
        "colab_type": "text"
      },
      "source": [
        "### ตัวอย่าง จงหาค่าลักษณะเฉพาะ(Eigenvalue) ทั้งหมด\n",
        "\n",
        "\\begin{equation}\n",
        "\\textbf{A} = \\begin{bmatrix} 0&1&0 \\\\\n",
        "                             0&0&1\\\\\n",
        "                             4&-17&8\n",
        "             \\end{bmatrix}\n",
        "             \\end{equation}"
      ]
    },
    {
      "cell_type": "markdown",
      "metadata": {
        "id": "y1xKDCyFaTjc",
        "colab_type": "text"
      },
      "source": [
        "\\begin{equation}\n",
        "\\begin{aligned}\n",
        "det(xI_3 - A) &= \\begin{vmatrix} x & -1 & 0 \\\\\n",
        "                                0 & x & -1\\\\\n",
        "                                -4 &17&(x-8)\\\\\n",
        "                \\end{vmatrix} \\\\\n",
        "              &= x^3-8x^2+17x-4 = 0 \\\\\n",
        "              &= (x-4)(x^2-4x+1) = 0\n",
        " \\end{aligned}\n",
        "\\end{equation}\n",
        "\n",
        "$x=2-\\sqrt{3}$, $x=2+\\sqrt{3}$ และ  $x=4$\n"
      ]
    },
    {
      "cell_type": "code",
      "metadata": {
        "id": "7gHQU56MRdzz",
        "colab_type": "code",
        "colab": {
          "base_uri": "https://localhost:8080/",
          "height": 68
        },
        "outputId": "ec688a71-71ae-4114-932b-7519a5d7eb5e"
      },
      "source": [
        "A=np.array([[0,1,0],[0,0,1],[4,-17,8]])\n",
        "results = la.eig(A)\n",
        "print(A)"
      ],
      "execution_count": 15,
      "outputs": [
        {
          "output_type": "stream",
          "text": [
            "[[  0   1   0]\n",
            " [  0   0   1]\n",
            " [  4 -17   8]]\n"
          ],
          "name": "stdout"
        }
      ]
    },
    {
      "cell_type": "markdown",
      "metadata": {
        "id": "u75fQiptRdz2",
        "colab_type": "text"
      },
      "source": [
        "ค่าลักษณะเฉพาะ(eigenvalues)ของ $\\textbf{A}$ ทั้งหมดมีค่าเท่ากับ:"
      ]
    },
    {
      "cell_type": "code",
      "metadata": {
        "id": "eB-b3yG7Rdz3",
        "colab_type": "code",
        "outputId": "eff8a913-602c-4f1e-e7b5-c44213d6b386",
        "colab": {
          "base_uri": "https://localhost:8080/",
          "height": 34
        }
      },
      "source": [
        "print(results[0])"
      ],
      "execution_count": 21,
      "outputs": [
        {
          "output_type": "stream",
          "text": [
            "[0.26794919+0.j 3.73205081+0.j 4.        +0.j]\n"
          ],
          "name": "stdout"
        }
      ]
    },
    {
      "cell_type": "markdown",
      "metadata": {
        "id": "FidcGSvDRdz6",
        "colab_type": "text"
      },
      "source": [
        "ดังนั้น เวกเตอร์เฉพาะ(eigenvectors) เท่ากับ:"
      ]
    },
    {
      "cell_type": "code",
      "metadata": {
        "id": "vfdeXwWCRdz7",
        "colab_type": "code",
        "outputId": "b471044a-e2d3-496a-9980-376f26638fe9",
        "colab": {
          "base_uri": "https://localhost:8080/",
          "height": 68
        }
      },
      "source": [
        "print(results[1])"
      ],
      "execution_count": 22,
      "outputs": [
        {
          "output_type": "stream",
          "text": [
            "[[-0.96361137 -0.06918418 -0.06052275]\n",
            " [-0.25819889 -0.25819889 -0.24209101]\n",
            " [-0.06918418 -0.96361137 -0.96836405]]\n"
          ],
          "name": "stdout"
        }
      ]
    },
    {
      "cell_type": "markdown",
      "metadata": {
        "id": "Xc_818-KRdz9",
        "colab_type": "text"
      },
      "source": [
        "We can [unpack the tuple](../../python/sequences/#unpacking-a-sequence):"
      ]
    },
    {
      "cell_type": "code",
      "metadata": {
        "id": "BGmF0wIqRdz9",
        "colab_type": "code",
        "outputId": "be7e7829-f596-4025-a2b9-23e3560f1571",
        "colab": {
          "base_uri": "https://localhost:8080/",
          "height": 34
        }
      },
      "source": [
        "eigvals, eigvecs = la.eig(A)\n",
        "print(eigvals)"
      ],
      "execution_count": 20,
      "outputs": [
        {
          "output_type": "stream",
          "text": [
            "[0.26794919+0.j 3.73205081+0.j 4.        +0.j]\n"
          ],
          "name": "stdout"
        }
      ]
    },
    {
      "cell_type": "code",
      "metadata": {
        "id": "FM3dBojYRd0A",
        "colab_type": "code",
        "outputId": "3113329d-4dbc-4869-901f-fa23979f4c18",
        "colab": {}
      },
      "source": [
        "print(eigvecs)"
      ],
      "execution_count": 0,
      "outputs": [
        {
          "output_type": "stream",
          "text": [
            "[[1. 0.]\n",
            " [0. 1.]]\n"
          ],
          "name": "stdout"
        }
      ]
    },
    {
      "cell_type": "markdown",
      "metadata": {
        "id": "gZhyn2_PRd0C",
        "colab_type": "text"
      },
      "source": [
        "If we know that the eigenvalues are real numbers (ie. if $A$ is symmetric), then we can use the NumPy array method `.real` to convert the array of eigenvalues to real numbers:"
      ]
    },
    {
      "cell_type": "code",
      "metadata": {
        "id": "3A5I1aIvRd0C",
        "colab_type": "code",
        "outputId": "f98fc090-42cd-45fd-a06d-fe6381aed192",
        "colab": {
          "base_uri": "https://localhost:8080/",
          "height": 34
        }
      },
      "source": [
        "eigvals = eigvals.real\n",
        "print(eigvals)"
      ],
      "execution_count": 23,
      "outputs": [
        {
          "output_type": "stream",
          "text": [
            "[0.26794919 3.73205081 4.        ]\n"
          ],
          "name": "stdout"
        }
      ]
    },
    {
      "cell_type": "markdown",
      "metadata": {
        "id": "0VC3lo08Rd0E",
        "colab_type": "text"
      },
      "source": [
        "Notice that the position of an eigenvalue in the array `eigvals` correspond to the column in `eigvecs` with its eigenvector:"
      ]
    },
    {
      "cell_type": "code",
      "metadata": {
        "id": "nVpFg13PRd0E",
        "colab_type": "code",
        "outputId": "44455578-3d43-4161-aae8-f55069a14211",
        "colab": {
          "base_uri": "https://localhost:8080/",
          "height": 34
        }
      },
      "source": [
        "lambda1 = eigvals[1]\n",
        "print(lambda1)"
      ],
      "execution_count": 29,
      "outputs": [
        {
          "output_type": "stream",
          "text": [
            "3.7320508075688448\n"
          ],
          "name": "stdout"
        }
      ]
    },
    {
      "cell_type": "code",
      "metadata": {
        "id": "eI6iUw3oRd0G",
        "colab_type": "code",
        "outputId": "09597195-55be-471f-fbd5-3800765018c3",
        "colab": {
          "base_uri": "https://localhost:8080/",
          "height": 68
        }
      },
      "source": [
        "v1 = eigvecs[:,1].reshape(3,1)\n",
        "print(v1)"
      ],
      "execution_count": 34,
      "outputs": [
        {
          "output_type": "stream",
          "text": [
            "[[-0.06918418]\n",
            " [-0.25819889]\n",
            " [-0.96361137]]\n"
          ],
          "name": "stdout"
        }
      ]
    },
    {
      "cell_type": "code",
      "metadata": {
        "id": "cRRDKGbnRd0I",
        "colab_type": "code",
        "outputId": "1ca6feef-6523-4b90-e28e-7494f0312d8d",
        "colab": {}
      },
      "source": [
        "A @ v1"
      ],
      "execution_count": 0,
      "outputs": [
        {
          "output_type": "execute_result",
          "data": {
            "text/plain": [
              "array([[ 0.],\n",
              "       [-2.]])"
            ]
          },
          "metadata": {
            "tags": []
          },
          "execution_count": 11
        }
      ]
    },
    {
      "cell_type": "code",
      "metadata": {
        "id": "0PwqzXceRd0K",
        "colab_type": "code",
        "outputId": "4fc19d74-295f-445c-f0e6-4a38de175ac2",
        "colab": {}
      },
      "source": [
        "lambda1 * v1"
      ],
      "execution_count": 0,
      "outputs": [
        {
          "output_type": "execute_result",
          "data": {
            "text/plain": [
              "array([[-0.],\n",
              "       [-2.]])"
            ]
          },
          "metadata": {
            "tags": []
          },
          "execution_count": 12
        }
      ]
    },
    {
      "cell_type": "markdown",
      "metadata": {
        "id": "P-OtUyG1Rd0L",
        "colab_type": "text"
      },
      "source": [
        "## Examples\n",
        "\n",
        "### Symmetric Matrices\n",
        "\n",
        "The eigenvalues of a [symmetric matrix](https://en.wikipedia.org/wiki/Symmetric_matrix) are always real and the eigenvectors are always orthogonal! Let's verify these facts with some random matrices:"
      ]
    },
    {
      "cell_type": "code",
      "metadata": {
        "id": "BuqsScnGRd0M",
        "colab_type": "code",
        "outputId": "6a8d3e06-8edf-41a7-82eb-2f263ca7a3dd",
        "colab": {}
      },
      "source": [
        "n = 4\n",
        "P = np.random.randint(0,10,(n,n))\n",
        "print(P)"
      ],
      "execution_count": 0,
      "outputs": [
        {
          "output_type": "stream",
          "text": [
            "[[7 0 6 2]\n",
            " [9 5 1 3]\n",
            " [0 2 2 5]\n",
            " [6 8 8 6]]\n"
          ],
          "name": "stdout"
        }
      ]
    },
    {
      "cell_type": "markdown",
      "metadata": {
        "id": "ykNJhC8QRd0N",
        "colab_type": "text"
      },
      "source": [
        "Create the symmetric matrix $S = P P^T$:"
      ]
    },
    {
      "cell_type": "code",
      "metadata": {
        "id": "t5-YYfKERd0O",
        "colab_type": "code",
        "outputId": "2d065ff0-06e0-45af-aaf9-9f149fbad60f",
        "colab": {}
      },
      "source": [
        "S = P @ P.T\n",
        "print(S)"
      ],
      "execution_count": 0,
      "outputs": [
        {
          "output_type": "stream",
          "text": [
            "[[ 89  75  22 102]\n",
            " [ 75 116  27 120]\n",
            " [ 22  27  33  62]\n",
            " [102 120  62 200]]\n"
          ],
          "name": "stdout"
        }
      ]
    },
    {
      "cell_type": "markdown",
      "metadata": {
        "id": "p3xJGAG_Rd0P",
        "colab_type": "text"
      },
      "source": [
        "Let's unpack the eigenvalues and eigenvectors of $S$:"
      ]
    },
    {
      "cell_type": "code",
      "metadata": {
        "id": "92DhsjUYRd0Q",
        "colab_type": "code",
        "outputId": "9952bf64-0963-4235-831a-f04637c744cf",
        "colab": {}
      },
      "source": [
        "evals, evecs = la.eig(S)\n",
        "print(evals)"
      ],
      "execution_count": 0,
      "outputs": [
        {
          "output_type": "stream",
          "text": [
            "[361.75382302+0.j  42.74593101+0.j  26.33718907+0.j   7.16305691+0.j]\n"
          ],
          "name": "stdout"
        }
      ]
    },
    {
      "cell_type": "markdown",
      "metadata": {
        "id": "SjsKs7FIRd0R",
        "colab_type": "text"
      },
      "source": [
        "The eigenvalues all have zero imaginary part and so they are indeed real numbers:"
      ]
    },
    {
      "cell_type": "code",
      "metadata": {
        "id": "7WJTTOINRd0S",
        "colab_type": "code",
        "outputId": "37407b62-97b8-4aec-9e53-e6bf430a3ec8",
        "colab": {}
      },
      "source": [
        "evals = evals.real\n",
        "print(evals)"
      ],
      "execution_count": 0,
      "outputs": [
        {
          "output_type": "stream",
          "text": [
            "[361.75382302  42.74593101  26.33718907   7.16305691]\n"
          ],
          "name": "stdout"
        }
      ]
    },
    {
      "cell_type": "markdown",
      "metadata": {
        "id": "yceMXgiSRd0T",
        "colab_type": "text"
      },
      "source": [
        "The corresponding eigenvectors of $A$ are:"
      ]
    },
    {
      "cell_type": "code",
      "metadata": {
        "id": "ZCZol99ORd0T",
        "colab_type": "code",
        "outputId": "8fdf7340-36b6-4e08-9439-91995714b933",
        "colab": {}
      },
      "source": [
        "print(evecs)"
      ],
      "execution_count": 0,
      "outputs": [
        {
          "output_type": "stream",
          "text": [
            "[[-0.42552429 -0.42476765  0.76464379 -0.23199439]\n",
            " [-0.50507589 -0.54267519 -0.64193252 -0.19576676]\n",
            " [-0.20612674  0.54869183 -0.05515612 -0.80833585]\n",
            " [-0.72203822  0.4733005   0.01415338  0.50442752]]\n"
          ],
          "name": "stdout"
        }
      ]
    },
    {
      "cell_type": "markdown",
      "metadata": {
        "id": "HhV_h_S0Rd0V",
        "colab_type": "text"
      },
      "source": [
        "Let's check that the eigenvectors are orthogonal to each other:"
      ]
    },
    {
      "cell_type": "code",
      "metadata": {
        "id": "aXuJlenCRd0W",
        "colab_type": "code",
        "outputId": "48286ac2-0787-4a44-bc08-c72dd5584d0a",
        "colab": {}
      },
      "source": [
        "v1 = evecs[:,0] # First column is the first eigenvector\n",
        "print(v1)"
      ],
      "execution_count": 0,
      "outputs": [
        {
          "output_type": "stream",
          "text": [
            "[-0.42552429 -0.50507589 -0.20612674 -0.72203822]\n"
          ],
          "name": "stdout"
        }
      ]
    },
    {
      "cell_type": "code",
      "metadata": {
        "id": "tFZpYzR0Rd0X",
        "colab_type": "code",
        "outputId": "ad9df690-dadd-4b67-fba0-10d93179d3e1",
        "colab": {}
      },
      "source": [
        "v2 = evecs[:,1] # Second column is the second eigenvector\n",
        "print(v2)"
      ],
      "execution_count": 0,
      "outputs": [
        {
          "output_type": "stream",
          "text": [
            "[-0.42476765 -0.54267519  0.54869183  0.4733005 ]\n"
          ],
          "name": "stdout"
        }
      ]
    },
    {
      "cell_type": "code",
      "metadata": {
        "id": "sW6Xc3SvRd0Y",
        "colab_type": "code",
        "outputId": "91f51bdb-24b8-4fd3-e926-8127fed1a2c1",
        "colab": {}
      },
      "source": [
        "v1 @ v2"
      ],
      "execution_count": 0,
      "outputs": [
        {
          "output_type": "execute_result",
          "data": {
            "text/plain": [
              "-1.1102230246251565e-16"
            ]
          },
          "metadata": {
            "tags": []
          },
          "execution_count": 20
        }
      ]
    },
    {
      "cell_type": "markdown",
      "metadata": {
        "id": "LFxsjS-9Rd0a",
        "colab_type": "text"
      },
      "source": [
        "The dot product of eigenvectors $\\mathbf{v}_1$ and $\\mathbf{v}_2$ is zero (the number above is <em>very</em> close to zero and is due to rounding errors in the computations) and so they are orthogonal!"
      ]
    },
    {
      "cell_type": "markdown",
      "metadata": {
        "id": "zqunNxZaRd0a",
        "colab_type": "text"
      },
      "source": [
        "### Diagonalization\n",
        "\n",
        "A square matrix $M$ is [diagonalizable](https://en.wikipedia.org/wiki/Diagonalizable_matrix) if it is similar to a diagonal matrix. In other words, $M$ is diagonalizable if there exists an invertible matrix $P$ such that $D = P^{-1}MP$ is a diagonal matrix.\n",
        "\n",
        "A beautiful result in linear algebra is that a square matrix $M$ of size $n$ is diagonalizable if and only if $M$ has $n$ independent eigevectors. Furthermore, $M = PDP^{-1}$ where the columns of $P$ are the eigenvectors of $M$ and $D$ has corresponding eigenvalues along the diagonal.\n",
        "\n",
        "Let's use this to construct a matrix with given eigenvalues $\\lambda_1 = 3, \\lambda_2 = 1$, and eigenvectors $v_1 = [1,1]^T, v_2 = [1,-1]^T$."
      ]
    },
    {
      "cell_type": "code",
      "metadata": {
        "id": "4IavvDoXRd0b",
        "colab_type": "code",
        "outputId": "e1eaa4df-515f-4e89-e8ba-d049e8cfbdfa",
        "colab": {}
      },
      "source": [
        "P = np.array([[1,1],[1,-1]])\n",
        "print(P)"
      ],
      "execution_count": 0,
      "outputs": [
        {
          "output_type": "stream",
          "text": [
            "[[ 1  1]\n",
            " [ 1 -1]]\n"
          ],
          "name": "stdout"
        }
      ]
    },
    {
      "cell_type": "code",
      "metadata": {
        "id": "Z8Ies7_8Rd0c",
        "colab_type": "code",
        "outputId": "70550be2-da46-4462-e7c7-dc6d5c0fb822",
        "colab": {}
      },
      "source": [
        "D = np.diag((3,1))\n",
        "print(D)"
      ],
      "execution_count": 0,
      "outputs": [
        {
          "output_type": "stream",
          "text": [
            "[[3 0]\n",
            " [0 1]]\n"
          ],
          "name": "stdout"
        }
      ]
    },
    {
      "cell_type": "code",
      "metadata": {
        "id": "iQaIyX7DRd0d",
        "colab_type": "code",
        "outputId": "5e83d8e8-68e6-4426-f033-eea4b90ee4dc",
        "colab": {}
      },
      "source": [
        "M = P @ D @ la.inv(P)\n",
        "print(M)"
      ],
      "execution_count": 0,
      "outputs": [
        {
          "output_type": "stream",
          "text": [
            "[[2. 1.]\n",
            " [1. 2.]]\n"
          ],
          "name": "stdout"
        }
      ]
    },
    {
      "cell_type": "markdown",
      "metadata": {
        "id": "JTBBv2dzRd0e",
        "colab_type": "text"
      },
      "source": [
        "Let's verify that the eigenvalues of $M$ are 3 and 1:"
      ]
    },
    {
      "cell_type": "code",
      "metadata": {
        "id": "0_ocjyYTRd0f",
        "colab_type": "code",
        "outputId": "2edb7e60-ad47-46af-d761-202ae047857a",
        "colab": {}
      },
      "source": [
        "evals, evecs = la.eig(M)\n",
        "print(evals)"
      ],
      "execution_count": 0,
      "outputs": [
        {
          "output_type": "stream",
          "text": [
            "[3.+0.j 1.+0.j]\n"
          ],
          "name": "stdout"
        }
      ]
    },
    {
      "cell_type": "markdown",
      "metadata": {
        "id": "m00WErIXRd0g",
        "colab_type": "text"
      },
      "source": [
        "Verify the eigenvectors:"
      ]
    },
    {
      "cell_type": "code",
      "metadata": {
        "id": "JE_WFh2FRd0g",
        "colab_type": "code",
        "outputId": "4ccf8e6b-6769-417a-b331-0d5a7d94643a",
        "colab": {}
      },
      "source": [
        "print(evecs)"
      ],
      "execution_count": 0,
      "outputs": [
        {
          "output_type": "stream",
          "text": [
            "[[ 0.70710678 -0.70710678]\n",
            " [ 0.70710678  0.70710678]]\n"
          ],
          "name": "stdout"
        }
      ]
    },
    {
      "cell_type": "markdown",
      "metadata": {
        "id": "8HdNJl-3Rd0h",
        "colab_type": "text"
      },
      "source": [
        "### Matrix Powers\n",
        "\n",
        "Let $M$ be a square matrix. Computing powers of $M$ by matrix multiplication\n",
        "\n",
        "$$\n",
        "M^k = \\underbrace{M M \\cdots M}_k\n",
        "$$\n",
        "\n",
        "is computationally expensive. Instead, let's use diagonalization to compute $M^k$ more efficiently\n",
        "\n",
        "$$\n",
        "M^k = \\left( P D P^{-1} \\right)^k  = \\underbrace{P D P^{-1} P D P^{-1} \\cdots P D P^{-1}}_k = P D^k P^{-1}\n",
        "$$\n",
        "\n",
        "Let's compute $M^{20}$ both ways and compare execution time."
      ]
    },
    {
      "cell_type": "code",
      "metadata": {
        "id": "YzsYZV5rRd0i",
        "colab_type": "code",
        "colab": {}
      },
      "source": [
        "Pinv = la.inv(P)"
      ],
      "execution_count": 0,
      "outputs": []
    },
    {
      "cell_type": "code",
      "metadata": {
        "id": "OfjhPIycRd0j",
        "colab_type": "code",
        "colab": {}
      },
      "source": [
        "k = 20"
      ],
      "execution_count": 0,
      "outputs": []
    },
    {
      "cell_type": "code",
      "metadata": {
        "id": "lwx3fRdTRd0k",
        "colab_type": "code",
        "outputId": "f94d5b89-1bbd-4d92-ba47-e30148c499b7",
        "colab": {}
      },
      "source": [
        "%%timeit\n",
        "result = M.copy()\n",
        "for _ in range(1,k):\n",
        "    result = result @ M"
      ],
      "execution_count": 0,
      "outputs": [
        {
          "output_type": "stream",
          "text": [
            "42.1 µs ± 11.4 µs per loop (mean ± std. dev. of 7 runs, 10000 loops each)\n"
          ],
          "name": "stdout"
        }
      ]
    },
    {
      "cell_type": "markdown",
      "metadata": {
        "id": "781g6FHSRd0m",
        "colab_type": "text"
      },
      "source": [
        "Let's use diagonalization to do the same computation."
      ]
    },
    {
      "cell_type": "code",
      "metadata": {
        "id": "potjLkVYRd0m",
        "colab_type": "code",
        "outputId": "cc2d3ea5-4c86-439a-e397-4987260b0977",
        "colab": {}
      },
      "source": [
        "%%timeit\n",
        "P @ D**k @ Pinv"
      ],
      "execution_count": 0,
      "outputs": [
        {
          "output_type": "stream",
          "text": [
            "6.42 µs ± 1.36 µs per loop (mean ± std. dev. of 7 runs, 100000 loops each)\n"
          ],
          "name": "stdout"
        }
      ]
    },
    {
      "cell_type": "markdown",
      "metadata": {
        "id": "Mfq-w3crRd0o",
        "colab_type": "text"
      },
      "source": [
        "Diagonalization computes $M^{k}$ much faster!"
      ]
    },
    {
      "cell_type": "markdown",
      "metadata": {
        "id": "hwz87JA8Rd0o",
        "colab_type": "text"
      },
      "source": [
        "## Exercises\n",
        "\n",
        "*Under construction*"
      ]
    }
  ]
}