{
  "nbformat": 4,
  "nbformat_minor": 0,
  "metadata": {
    "colab": {
      "name": "Matrix 01.ipynb",
      "provenance": [],
      "collapsed_sections": [
        "paFZ_c3PO8ef",
        "ZUwZtqW7R9Vk",
        "bogglwKaTAwM",
        "p55yqPspV73y"
      ],
      "authorship_tag": "ABX9TyPca3E4lQ2k9o2/5ovcfSnV",
      "include_colab_link": true
    },
    "kernelspec": {
      "name": "python3",
      "display_name": "Python 3"
    }
  },
  "cells": [
    {
      "cell_type": "markdown",
      "metadata": {
        "id": "view-in-github",
        "colab_type": "text"
      },
      "source": [
        "<a href=\"https://colab.research.google.com/github/Lecture-CPE/308/blob/2562-2/w12/colab/Matrix_01.ipynb\" target=\"_parent\"><img src=\"https://colab.research.google.com/assets/colab-badge.svg\" alt=\"Open In Colab\"/></a>"
      ]
    },
    {
      "cell_type": "markdown",
      "metadata": {
        "id": "paFZ_c3PO8ef",
        "colab_type": "text"
      },
      "source": [
        "## Matrix Operations and Functions\n"
      ]
    },
    {
      "cell_type": "code",
      "metadata": {
        "id": "z3YSN5ZZPIju",
        "colab_type": "code",
        "colab": {}
      },
      "source": [
        "import numpy as np\n",
        "import scipy.linalg as la"
      ],
      "execution_count": 0,
      "outputs": []
    },
    {
      "cell_type": "markdown",
      "metadata": {
        "id": "ftNFVAnUPRIy",
        "colab_type": "text"
      },
      "source": [
        "กำหนด Matrix A = [ 1 3 -2 1 ]\n"
      ]
    },
    {
      "cell_type": "code",
      "metadata": {
        "id": "8kbvymPyPPoF",
        "colab_type": "code",
        "colab": {}
      },
      "source": [
        "A = np.array([1,3,-2,1])\n",
        "print(A)"
      ],
      "execution_count": 0,
      "outputs": []
    },
    {
      "cell_type": "markdown",
      "metadata": {
        "id": "NHnXL9gyPcqO",
        "colab_type": "text"
      },
      "source": [
        "กำหนด Matrix \n",
        "  \\begin{align}\n",
        "  B=\\begin{bmatrix}1&2 \\\\3&7\\\\-1&5\n",
        "  \\end{bmatrix}\n",
        "  \\end{align}"
      ]
    },
    {
      "cell_type": "code",
      "metadata": {
        "id": "qPN67iNnPEMA",
        "colab_type": "code",
        "colab": {}
      },
      "source": [
        "B = np.array([[1,2],[3,7],[-1,5]])\n",
        "print(B)"
      ],
      "execution_count": 0,
      "outputs": []
    },
    {
      "cell_type": "markdown",
      "metadata": {
        "id": "eAaeA7l3QniL",
        "colab_type": "text"
      },
      "source": [
        "ข้อมูล Matrix \n",
        "- จำนวน dimension (B.ndim)\n",
        "- รูปของ matrix (B.shape)\n",
        "- จำนวนสมาชิก (B.size)"
      ]
    },
    {
      "cell_type": "code",
      "metadata": {
        "id": "RWRmYx5ZQVTl",
        "colab_type": "code",
        "outputId": "ea7237fe-7cf8-47b0-b27d-986108e5275e",
        "colab": {
          "base_uri": "https://localhost:8080/",
          "height": 34
        }
      },
      "source": [
        "B.ndim"
      ],
      "execution_count": 0,
      "outputs": [
        {
          "output_type": "execute_result",
          "data": {
            "text/plain": [
              "2"
            ]
          },
          "metadata": {
            "tags": []
          },
          "execution_count": 16
        }
      ]
    },
    {
      "cell_type": "code",
      "metadata": {
        "id": "QGG8NMJeRCjw",
        "colab_type": "code",
        "outputId": "410d2d37-2e51-467d-b213-75a90b3b18c6",
        "colab": {
          "base_uri": "https://localhost:8080/",
          "height": 34
        }
      },
      "source": [
        "B.shape"
      ],
      "execution_count": 0,
      "outputs": [
        {
          "output_type": "execute_result",
          "data": {
            "text/plain": [
              "(3, 2)"
            ]
          },
          "metadata": {
            "tags": []
          },
          "execution_count": 15
        }
      ]
    },
    {
      "cell_type": "code",
      "metadata": {
        "id": "xpIkavUOQbEH",
        "colab_type": "code",
        "outputId": "e9ef66ee-65b7-420f-d631-5dde6b1cf4b8",
        "colab": {
          "base_uri": "https://localhost:8080/",
          "height": 34
        }
      },
      "source": [
        "B.size"
      ],
      "execution_count": 0,
      "outputs": [
        {
          "output_type": "execute_result",
          "data": {
            "text/plain": [
              "6"
            ]
          },
          "metadata": {
            "tags": []
          },
          "execution_count": 14
        }
      ]
    },
    {
      "cell_type": "code",
      "metadata": {
        "id": "iX-8IqvnQeUe",
        "colab_type": "code",
        "colab": {}
      },
      "source": [
        ""
      ],
      "execution_count": 0,
      "outputs": []
    },
    {
      "cell_type": "markdown",
      "metadata": {
        "id": "B0cblREcRMCM",
        "colab_type": "text"
      },
      "source": [
        "เลือกข้อมูลตาม คอลัมน์ (col)\n"
      ]
    },
    {
      "cell_type": "code",
      "metadata": {
        "id": "8TqWdKATRa2b",
        "colab_type": "code",
        "outputId": "a2df7cbf-51ba-4fa8-9f2c-cb93f3405737",
        "colab": {
          "base_uri": "https://localhost:8080/",
          "height": 34
        }
      },
      "source": [
        "col = B[:,1]\n",
        "print(col)"
      ],
      "execution_count": 0,
      "outputs": [
        {
          "output_type": "stream",
          "text": [
            "[2 7 5]\n"
          ],
          "name": "stdout"
        }
      ]
    },
    {
      "cell_type": "code",
      "metadata": {
        "id": "WkwVatzBRdfn",
        "colab_type": "code",
        "outputId": "3d7d1a81-023d-4abc-d250-e474fe2bdd94",
        "colab": {
          "base_uri": "https://localhost:8080/",
          "height": 34
        }
      },
      "source": [
        "col.ndim"
      ],
      "execution_count": 0,
      "outputs": [
        {
          "output_type": "execute_result",
          "data": {
            "text/plain": [
              "1"
            ]
          },
          "metadata": {
            "tags": []
          },
          "execution_count": 18
        }
      ]
    },
    {
      "cell_type": "code",
      "metadata": {
        "id": "KLc4cQKBRjM0",
        "colab_type": "code",
        "outputId": "1aae1087-8d44-406a-e83e-d886568c4479",
        "colab": {
          "base_uri": "https://localhost:8080/",
          "height": 34
        }
      },
      "source": [
        "col.size"
      ],
      "execution_count": 0,
      "outputs": [
        {
          "output_type": "execute_result",
          "data": {
            "text/plain": [
              "3"
            ]
          },
          "metadata": {
            "tags": []
          },
          "execution_count": 20
        }
      ]
    },
    {
      "cell_type": "code",
      "metadata": {
        "id": "XE51NfRYRlzt",
        "colab_type": "code",
        "colab": {}
      },
      "source": [
        ""
      ],
      "execution_count": 0,
      "outputs": []
    },
    {
      "cell_type": "markdown",
      "metadata": {
        "id": "bjSR95dDRvoP",
        "colab_type": "text"
      },
      "source": [
        "เลือก แถว (row)\n"
      ]
    },
    {
      "cell_type": "code",
      "metadata": {
        "id": "kbzDP3RpRyCk",
        "colab_type": "code",
        "outputId": "bceed96b-5be8-40ce-a68c-63b13d9f23f4",
        "colab": {
          "base_uri": "https://localhost:8080/",
          "height": 34
        }
      },
      "source": [
        "row=B[0,:]\n",
        "print(row)"
      ],
      "execution_count": 0,
      "outputs": [
        {
          "output_type": "stream",
          "text": [
            "[1 2]\n"
          ],
          "name": "stdout"
        }
      ]
    },
    {
      "cell_type": "code",
      "metadata": {
        "id": "6qBXoFq1R1_b",
        "colab_type": "code",
        "colab": {}
      },
      "source": [
        ""
      ],
      "execution_count": 0,
      "outputs": []
    },
    {
      "cell_type": "markdown",
      "metadata": {
        "id": "ZUwZtqW7R9Vk",
        "colab_type": "text"
      },
      "source": [
        "## Arithmetic Operator\n",
        "ตัวดำเนินการพื้นฐาน +,-,/, * และ ** ใช้ได้กับ Matrix\n",
        "\n"
      ]
    },
    {
      "cell_type": "code",
      "metadata": {
        "id": "ATuwCL92SJBs",
        "colab_type": "code",
        "colab": {}
      },
      "source": [
        "M = np.array([[3,4],[-1,5]])\n",
        "print(M)"
      ],
      "execution_count": 0,
      "outputs": []
    },
    {
      "cell_type": "code",
      "metadata": {
        "id": "Fr8GEwrQSLfS",
        "colab_type": "code",
        "outputId": "272c5359-ead5-444c-a129-f55acb00ed9f",
        "colab": {
          "base_uri": "https://localhost:8080/",
          "height": 51
        }
      },
      "source": [
        "M+M"
      ],
      "execution_count": 0,
      "outputs": [
        {
          "output_type": "execute_result",
          "data": {
            "text/plain": [
              "array([[ 6,  8],\n",
              "       [-2, 10]])"
            ]
          },
          "metadata": {
            "tags": []
          },
          "execution_count": 23
        }
      ]
    },
    {
      "cell_type": "code",
      "metadata": {
        "id": "FtmZ00MmSNnu",
        "colab_type": "code",
        "outputId": "05aedb02-fc9e-4e85-b82b-b0ccc8a5b506",
        "colab": {
          "base_uri": "https://localhost:8080/",
          "height": 51
        }
      },
      "source": [
        "M*M"
      ],
      "execution_count": 0,
      "outputs": [
        {
          "output_type": "execute_result",
          "data": {
            "text/plain": [
              "array([[ 9, 16],\n",
              "       [ 1, 25]])"
            ]
          },
          "metadata": {
            "tags": []
          },
          "execution_count": 24
        }
      ]
    },
    {
      "cell_type": "code",
      "metadata": {
        "id": "RMNZFNmzS3w9",
        "colab_type": "code",
        "colab": {}
      },
      "source": [
        ""
      ],
      "execution_count": 0,
      "outputs": []
    },
    {
      "cell_type": "markdown",
      "metadata": {
        "id": "bogglwKaTAwM",
        "colab_type": "text"
      },
      "source": [
        "## การคูณ Matrix\n",
        "ใช้เครื่องหมาย @ เช่น \n"
      ]
    },
    {
      "cell_type": "code",
      "metadata": {
        "id": "BUdm2xj_TMlK",
        "colab_type": "code",
        "outputId": "e5bbee00-232e-4394-efcc-4cf19d80e616",
        "colab": {
          "base_uri": "https://localhost:8080/",
          "height": 51
        }
      },
      "source": [
        "M @ M"
      ],
      "execution_count": 0,
      "outputs": [
        {
          "output_type": "execute_result",
          "data": {
            "text/plain": [
              "array([[ 5, 32],\n",
              "       [-8, 21]])"
            ]
          },
          "metadata": {
            "tags": []
          },
          "execution_count": 28
        }
      ]
    },
    {
      "cell_type": "code",
      "metadata": {
        "id": "ri_tOc-pTOBH",
        "colab_type": "code",
        "colab": {}
      },
      "source": [
        ""
      ],
      "execution_count": 0,
      "outputs": []
    },
    {
      "cell_type": "markdown",
      "metadata": {
        "id": "5OoNr5r_U8Xo",
        "colab_type": "text"
      },
      "source": [
        "Let's compute $2I + 3A - AB$ for\n",
        "\n",
        "$$\n",
        "A = \\begin{bmatrix}\n",
        "1 & 3 \\\\\\\n",
        "-1 & 7\n",
        "\\end{bmatrix}\n",
        "\\ \\ \\ \\\n",
        "B = \\begin{bmatrix}\n",
        "5 & 2 \\\\\\\n",
        "1 & 2\n",
        "\\end{bmatrix}\n",
        "$$\n",
        "\n",
        "and $I$ is the identity matrix of size 2:"
      ]
    },
    {
      "cell_type": "code",
      "metadata": {
        "id": "u4bv4_SaVC8_",
        "colab_type": "code",
        "outputId": "d02f9e5d-b7fc-42a2-f8e3-d6eff163f042",
        "colab": {
          "base_uri": "https://localhost:8080/",
          "height": 51
        }
      },
      "source": [
        "A = np.array([[1,3],[-1,7]])\n",
        "print(A)"
      ],
      "execution_count": 0,
      "outputs": [
        {
          "output_type": "stream",
          "text": [
            "[[ 1  3]\n",
            " [-1  7]]\n"
          ],
          "name": "stdout"
        }
      ]
    },
    {
      "cell_type": "code",
      "metadata": {
        "id": "SAT_RrLeVEoX",
        "colab_type": "code",
        "outputId": "a4465116-deaf-44ae-d733-b295d494af42",
        "colab": {
          "base_uri": "https://localhost:8080/",
          "height": 51
        }
      },
      "source": [
        "B = np.array([[5,2],[1,2]])\n",
        "print(B)"
      ],
      "execution_count": 0,
      "outputs": [
        {
          "output_type": "stream",
          "text": [
            "[[5 2]\n",
            " [1 2]]\n"
          ],
          "name": "stdout"
        }
      ]
    },
    {
      "cell_type": "code",
      "metadata": {
        "id": "IB_pUNheVIWS",
        "colab_type": "code",
        "outputId": "440b8bcb-fdf5-4f2c-9232-1b3d2f846d87",
        "colab": {
          "base_uri": "https://localhost:8080/",
          "height": 51
        }
      },
      "source": [
        "I = np.eye(2)\n",
        "print(I)"
      ],
      "execution_count": 0,
      "outputs": [
        {
          "output_type": "stream",
          "text": [
            "[[1. 0.]\n",
            " [0. 1.]]\n"
          ],
          "name": "stdout"
        }
      ]
    },
    {
      "cell_type": "code",
      "metadata": {
        "id": "BfkYhBFqVKI7",
        "colab_type": "code",
        "outputId": "af96d611-d1bf-478d-f8b7-f999856f7711",
        "colab": {
          "base_uri": "https://localhost:8080/",
          "height": 51
        }
      },
      "source": [
        "2*I + 3*A - A@B"
      ],
      "execution_count": 0,
      "outputs": [
        {
          "output_type": "execute_result",
          "data": {
            "text/plain": [
              "array([[-3.,  1.],\n",
              "       [-5., 11.]])"
            ]
          },
          "metadata": {
            "tags": []
          },
          "execution_count": 32
        }
      ]
    },
    {
      "cell_type": "code",
      "metadata": {
        "id": "_MrhScLPVMzM",
        "colab_type": "code",
        "colab": {}
      },
      "source": [
        ""
      ],
      "execution_count": 0,
      "outputs": []
    },
    {
      "cell_type": "markdown",
      "metadata": {
        "id": "fz5YMqw0VT92",
        "colab_type": "text"
      },
      "source": [
        "## Matrix Powers\n",
        "\n",
        "ใช้ฟังก์ชัน matrix power จากไลบรารี่ matrix_power\n"
      ]
    },
    {
      "cell_type": "code",
      "metadata": {
        "id": "dNKRRpA0Vj4g",
        "colab_type": "code",
        "colab": {}
      },
      "source": [
        "from numpy.linalg import matrix_power as mpow"
      ],
      "execution_count": 0,
      "outputs": []
    },
    {
      "cell_type": "code",
      "metadata": {
        "id": "33M8nDaOVpSY",
        "colab_type": "code",
        "outputId": "6cbed27a-7c25-4098-ad00-923ed8c277a5",
        "colab": {
          "base_uri": "https://localhost:8080/",
          "height": 51
        }
      },
      "source": [
        "mpow(M,2)"
      ],
      "execution_count": 0,
      "outputs": [
        {
          "output_type": "execute_result",
          "data": {
            "text/plain": [
              "array([[ 5, 32],\n",
              "       [-8, 21]])"
            ]
          },
          "metadata": {
            "tags": []
          },
          "execution_count": 35
        }
      ]
    },
    {
      "cell_type": "code",
      "metadata": {
        "id": "dw37rFNtVr5f",
        "colab_type": "code",
        "outputId": "1a2d8b82-a68c-4a0c-834b-015b258d64ae",
        "colab": {
          "base_uri": "https://localhost:8080/",
          "height": 51
        }
      },
      "source": [
        "mpow(M,5)"
      ],
      "execution_count": 0,
      "outputs": [
        {
          "output_type": "execute_result",
          "data": {
            "text/plain": [
              "array([[-1525,  3236],\n",
              "       [ -809,    93]])"
            ]
          },
          "metadata": {
            "tags": []
          },
          "execution_count": 37
        }
      ]
    },
    {
      "cell_type": "code",
      "metadata": {
        "id": "I5Abnd9QVxNN",
        "colab_type": "code",
        "outputId": "a82c24a9-9ecd-4001-d91b-e7a394c71fcd",
        "colab": {
          "base_uri": "https://localhost:8080/",
          "height": 51
        }
      },
      "source": [
        "M @ M @ M @ M @ M"
      ],
      "execution_count": 0,
      "outputs": [
        {
          "output_type": "execute_result",
          "data": {
            "text/plain": [
              "array([[-1525,  3236],\n",
              "       [ -809,    93]])"
            ]
          },
          "metadata": {
            "tags": []
          },
          "execution_count": 39
        }
      ]
    },
    {
      "cell_type": "code",
      "metadata": {
        "id": "DbVpMwsCV170",
        "colab_type": "code",
        "outputId": "458256c5-010a-49ef-8d9a-837abebcd863",
        "colab": {
          "base_uri": "https://localhost:8080/",
          "height": 51
        }
      },
      "source": [
        "mpow(M,3)"
      ],
      "execution_count": 0,
      "outputs": [
        {
          "output_type": "execute_result",
          "data": {
            "text/plain": [
              "array([[-17, 180],\n",
              "       [-45,  73]])"
            ]
          },
          "metadata": {
            "tags": []
          },
          "execution_count": 40
        }
      ]
    },
    {
      "cell_type": "code",
      "metadata": {
        "id": "RkT9Pb_sV4wL",
        "colab_type": "code",
        "outputId": "615fe089-e54f-4946-e94e-6024872485b5",
        "colab": {
          "base_uri": "https://localhost:8080/",
          "height": 51
        }
      },
      "source": [
        "M@M@M"
      ],
      "execution_count": 0,
      "outputs": [
        {
          "output_type": "execute_result",
          "data": {
            "text/plain": [
              "array([[-17, 180],\n",
              "       [-45,  73]])"
            ]
          },
          "metadata": {
            "tags": []
          },
          "execution_count": 41
        }
      ]
    },
    {
      "cell_type": "code",
      "metadata": {
        "id": "etA48B2eV6Bg",
        "colab_type": "code",
        "colab": {}
      },
      "source": [
        ""
      ],
      "execution_count": 0,
      "outputs": []
    },
    {
      "cell_type": "markdown",
      "metadata": {
        "id": "p55yqPspV73y",
        "colab_type": "text"
      },
      "source": [
        "### Transpose\n",
        "ใช้คำสั่ง .T เพื่อทำ Transpose matrix\n"
      ]
    },
    {
      "cell_type": "code",
      "metadata": {
        "id": "zXyKzTIlWGVJ",
        "colab_type": "code",
        "outputId": "cc774c4b-9851-4c75-b40a-baffdb41eec1",
        "colab": {
          "base_uri": "https://localhost:8080/",
          "height": 51
        }
      },
      "source": [
        "print(M)"
      ],
      "execution_count": 0,
      "outputs": [
        {
          "output_type": "stream",
          "text": [
            "[[ 3  4]\n",
            " [-1  5]]\n"
          ],
          "name": "stdout"
        }
      ]
    },
    {
      "cell_type": "code",
      "metadata": {
        "id": "YbGZqm4PWIgV",
        "colab_type": "code",
        "outputId": "1313b79e-604e-489c-9207-0d1569827973",
        "colab": {
          "base_uri": "https://localhost:8080/",
          "height": 51
        }
      },
      "source": [
        "print(M.T)"
      ],
      "execution_count": 0,
      "outputs": [
        {
          "output_type": "stream",
          "text": [
            "[[ 3 -1]\n",
            " [ 4  5]]\n"
          ],
          "name": "stdout"
        }
      ]
    },
    {
      "cell_type": "code",
      "metadata": {
        "id": "YOLP_rhcWKWY",
        "colab_type": "code",
        "colab": {}
      },
      "source": [
        ""
      ],
      "execution_count": 0,
      "outputs": []
    },
    {
      "cell_type": "markdown",
      "metadata": {
        "id": "w3S5MS2RWM_-",
        "colab_type": "text"
      },
      "source": [
        "symmetric matrix \n",
        "$MM^T$"
      ]
    },
    {
      "cell_type": "code",
      "metadata": {
        "id": "k5018LxyWX2T",
        "colab_type": "code",
        "outputId": "f88ffaed-83aa-44cd-e7b9-36c3f5199a4f",
        "colab": {
          "base_uri": "https://localhost:8080/",
          "height": 51
        }
      },
      "source": [
        "M @ M.T"
      ],
      "execution_count": 0,
      "outputs": [
        {
          "output_type": "execute_result",
          "data": {
            "text/plain": [
              "array([[25, 17],\n",
              "       [17, 26]])"
            ]
          },
          "metadata": {
            "tags": []
          },
          "execution_count": 44
        }
      ]
    },
    {
      "cell_type": "code",
      "metadata": {
        "id": "_ugEHP5dWZHx",
        "colab_type": "code",
        "colab": {}
      },
      "source": [
        ""
      ],
      "execution_count": 0,
      "outputs": []
    },
    {
      "cell_type": "markdown",
      "metadata": {
        "id": "gjuOuz5AWawA",
        "colab_type": "text"
      },
      "source": [
        "### Inverse matrix\n",
        "ใช้ฟังก์ชั่น scipy.linalg.inv\n",
        "\n"
      ]
    },
    {
      "cell_type": "code",
      "metadata": {
        "id": "nmpkPKRbWh30",
        "colab_type": "code",
        "outputId": "9fe7ee6b-52da-414b-c037-d3634ff20ebe",
        "colab": {
          "base_uri": "https://localhost:8080/",
          "height": 51
        }
      },
      "source": [
        "A = np.array([[1,2],[3,4]])\n",
        "print(A)"
      ],
      "execution_count": 0,
      "outputs": [
        {
          "output_type": "stream",
          "text": [
            "[[1 2]\n",
            " [3 4]]\n"
          ],
          "name": "stdout"
        }
      ]
    },
    {
      "cell_type": "code",
      "metadata": {
        "id": "tYdSiCJ7WkCt",
        "colab_type": "code",
        "outputId": "46facd27-8d35-4e90-9a8c-8c689f5df138",
        "colab": {
          "base_uri": "https://localhost:8080/",
          "height": 51
        }
      },
      "source": [
        "la.inv(A)"
      ],
      "execution_count": 0,
      "outputs": [
        {
          "output_type": "execute_result",
          "data": {
            "text/plain": [
              "array([[-2. ,  1. ],\n",
              "       [ 1.5, -0.5]])"
            ]
          },
          "metadata": {
            "tags": []
          },
          "execution_count": 46
        }
      ]
    },
    {
      "cell_type": "code",
      "metadata": {
        "id": "ZRfDro1DXXYP",
        "colab_type": "code",
        "colab": {}
      },
      "source": [
        ""
      ],
      "execution_count": 0,
      "outputs": []
    },
    {
      "cell_type": "markdown",
      "metadata": {
        "id": "lzkmwBqmXYPE",
        "colab_type": "text"
      },
      "source": [
        "### Determinant\n",
        "We find the determinant using the function scipy.linalg.det:\n"
      ]
    },
    {
      "cell_type": "code",
      "metadata": {
        "id": "qzxo55ltXeXx",
        "colab_type": "code",
        "colab": {
          "base_uri": "https://localhost:8080/",
          "height": 51
        },
        "outputId": "ae9184c0-5254-424f-8b04-8bd4a2ed0922"
      },
      "source": [
        "A = np.array([[1,2],[3,4]])\n",
        "print(A)"
      ],
      "execution_count": 47,
      "outputs": [
        {
          "output_type": "stream",
          "text": [
            "[[1 2]\n",
            " [3 4]]\n"
          ],
          "name": "stdout"
        }
      ]
    },
    {
      "cell_type": "code",
      "metadata": {
        "id": "7wEWgH5MXhHv",
        "colab_type": "code",
        "colab": {
          "base_uri": "https://localhost:8080/",
          "height": 34
        },
        "outputId": "cbfabbba-db22-46ad-ee1f-dc7985a9d755"
      },
      "source": [
        "la.det(A)"
      ],
      "execution_count": 48,
      "outputs": [
        {
          "output_type": "execute_result",
          "data": {
            "text/plain": [
              "-2.0"
            ]
          },
          "metadata": {
            "tags": []
          },
          "execution_count": 48
        }
      ]
    },
    {
      "cell_type": "markdown",
      "metadata": {
        "id": "Hn3Bg_UjWrs9",
        "colab_type": "text"
      },
      "source": [
        "## Exercises\n",
        "\n",
        "1. Write a function which takes an input parameter $A$, $i$ and $j$ and returns the dot product of the $i$th and $j$th row (indexing starts at 0).\n",
        "2. Compute the matrix equation $AB + 2B^2 - I$ for matrices $A = \\begin{bmatrix} 3 & 4 \\\\\\ -1 & 2 \\end{bmatrix}$ and $B = \\begin{bmatrix} 5 & 2 \\\\\\ 8 & -3 \\end{bmatrix}$.              "
      ]
    },
    {
      "cell_type": "code",
      "metadata": {
        "id": "M0NIyFTdWu3r",
        "colab_type": "code",
        "colab": {}
      },
      "source": [
        ""
      ],
      "execution_count": 0,
      "outputs": []
    }
  ]
}