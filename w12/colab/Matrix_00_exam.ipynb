{
  "nbformat": 4,
  "nbformat_minor": 0,
  "metadata": {
    "colab": {
      "name": "Matrix-00-exam.ipynb",
      "provenance": [],
      "authorship_tag": "ABX9TyM/hql2vRMI174rlHSv7D5A",
      "include_colab_link": true
    },
    "kernelspec": {
      "name": "python3",
      "display_name": "Python 3"
    }
  },
  "cells": [
    {
      "cell_type": "markdown",
      "metadata": {
        "id": "view-in-github",
        "colab_type": "text"
      },
      "source": [
        "<a href=\"https://colab.research.google.com/github/Lecture-CPE/308/blob/2562-2/w12/colab/Matrix_00_exam.ipynb\" target=\"_parent\"><img src=\"https://colab.research.google.com/assets/colab-badge.svg\" alt=\"Open In Colab\"/></a>"
      ]
    },
    {
      "cell_type": "markdown",
      "metadata": {
        "id": "nAfAJnom9zLH",
        "colab_type": "text"
      },
      "source": [
        "## แบบฝึกหัด\n",
        "จงแก้ระบบสมการเชิงเส้นโดยใช้วิธีการกำจัดตัวไม่ทราบค่า (Elimination method)\n",
        "\n",
        "1. หาค่า x และ y ที่ทำให้สมการเป็นจริง\n",
        "\\begin{align}\n",
        "2x+3y&=-2\\\\\n",
        "-2x&=0\n",
        "\\end{align}\n",
        "\n",
        "2. หาค่า x และ y ที่ทำให้สมการเป็นจริง\n",
        "\n",
        "\\begin{align}\n",
        "4x&=0\\\\\n",
        "-3x+2y&=-3\n",
        "\\end{align}\n",
        "\n",
        "3. หาค่า x และ y ที่ทำให้สมการเป็นจริง\n",
        "\n",
        "\\begin{align}\n",
        "3x-2y&=4\\\\\n",
        "x-\\frac{2}{3}y &= \\frac{4}{3}\n",
        "\\end{align}\n",
        "\n",
        "4. หาค่า x, y และ z ที่ทำให้สมการเป็นจริง\n",
        "\\begin{align}\n",
        "-3x-2y+2z&=-2\\\\\n",
        "-x-3y+z&=-3\\\\\n",
        "x-2y+z&=-2\n",
        "\\end{align}\n"
      ]
    }
  ]
}